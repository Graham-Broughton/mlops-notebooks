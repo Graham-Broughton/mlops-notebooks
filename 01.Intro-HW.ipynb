{
 "cells": [
  {
   "cell_type": "code",
   "execution_count": 1,
   "metadata": {},
   "outputs": [],
   "source": [
    "import pandas as pd\n",
    "import numpy as np\n",
    "import matplotlib.pyplot as plt\n",
    "import seaborn as sns\n",
    "%matplotlib inline\n",
    "\n",
    "from pathlib import Path\n",
    "\n",
    "from sklearn.feature_extraction import DictVectorizer\n",
    "from sklearn.linear_model import LinearRegression\n",
    "from sklearn.linear_model import Lasso\n",
    "from sklearn.linear_model import Ridge\n",
    "\n",
    "from sklearn.metrics import mean_squared_error\n",
    "\n",
    "import warnings; warnings.filterwarnings('ignore')"
   ]
  },
  {
   "cell_type": "code",
   "execution_count": 4,
   "metadata": {},
   "outputs": [
    {
     "data": {
      "text/plain": [
       "19"
      ]
     },
     "execution_count": 4,
     "metadata": {},
     "output_type": "execute_result"
    }
   ],
   "source": [
    "DATA = Path.cwd() / 'data' / 'taxi'\n",
    "\n",
    "jan = pd.read_parquet(DATA / 'yellow_tripdata_2022-01.parquet')\n",
    "feb = pd.read_parquet(DATA / 'yellow_tripdata_2022-02.parquet')\n",
    "\n",
    "jan.shape[1]"
   ]
  },
  {
   "cell_type": "code",
   "execution_count": 5,
   "metadata": {},
   "outputs": [
    {
     "data": {
      "text/plain": [
       "46.44530513776802"
      ]
     },
     "execution_count": 5,
     "metadata": {},
     "output_type": "execute_result"
    }
   ],
   "source": [
    "jan['duration'] = (jan['tpep_dropoff_datetime'] - jan['tpep_pickup_datetime']).dt.total_seconds() / 60\n",
    "jan['duration'].std()"
   ]
  },
  {
   "cell_type": "code",
   "execution_count": 33,
   "metadata": {},
   "outputs": [
    {
     "data": {
      "text/plain": [
       "98.27547930522405"
      ]
     },
     "execution_count": 33,
     "metadata": {},
     "output_type": "execute_result"
    }
   ],
   "source": [
    "no_outliers = jan[(jan['duration'] >= 1) & (jan['duration'] <= 60)]\n",
    "(no_outliers.shape[0] / jan.shape[0]) * 100"
   ]
  },
  {
   "cell_type": "code",
   "execution_count": 39,
   "metadata": {},
   "outputs": [
    {
     "data": {
      "text/plain": [
       "(2421440, 515)"
      ]
     },
     "execution_count": 39,
     "metadata": {},
     "output_type": "execute_result"
    }
   ],
   "source": [
    "cats = ['PULocationID', 'DOLocationID']\n",
    "target = ['duration']\n",
    "\n",
    "no_outliers[cats] = no_outliers[cats].astype(str)\n",
    "\n",
    "id_dict = no_outliers[cats].to_dict('records')\n",
    "\n",
    "dv = DictVectorizer()\n",
    "X_train = dv.fit_transform(id_dict)\n",
    "\n",
    "X_train.shape"
   ]
  },
  {
   "cell_type": "code",
   "execution_count": 41,
   "metadata": {},
   "outputs": [
    {
     "data": {
      "text/plain": [
       "6.986191065500608"
      ]
     },
     "execution_count": 41,
     "metadata": {},
     "output_type": "execute_result"
    }
   ],
   "source": [
    "y_train = no_outliers[target].values\n",
    "\n",
    "lr = LinearRegression()\n",
    "lr.fit(X_train, y_train)\n",
    "\n",
    "y_preds = lr.predict(X_train)\n",
    "mean_squared_error(y_train, y_preds, squared=False)"
   ]
  },
  {
   "cell_type": "code",
   "execution_count": 3,
   "metadata": {},
   "outputs": [],
   "source": [
    "def process_dataset(df):\n",
    "    df['duration'] = (df['tpep_dropoff_datetime'] - df['tpep_pickup_datetime']).dt.total_seconds() / 60\n",
    "    return df[(df['duration'] >= 1) & (df['duration'] <= 60)]\n",
    "\n",
    "def fit_dv_train(train):\n",
    "    cats = ['PULocationID', 'DOLocationID']\n",
    "    train[cats] = train[cats].astype(str)\n",
    "    id_dict = train[cats].to_dict('records')\n",
    "    dv = DictVectorizer()\n",
    "    X_train = dv.fit_transform(id_dict)\n",
    "    return X_train, dv\n",
    "\n",
    "def transform_dv_eval(eval, dv):\n",
    "    cats = ['PULocationID', 'DOLocationID']\n",
    "    eval[cats] = eval[cats].astype(str)\n",
    "    id_dict = eval[cats].to_dict('records')\n",
    "    return dv.transform(id_dict)\n",
    "\n",
    "def train(df):\n",
    "    processed_df = process_dataset(df)\n",
    "    X, dv = fit_dv_train(processed_df)\n",
    "    Y = processed_df['duration'].values\n",
    "    lr = LinearRegression()\n",
    "    lr.fit(X, Y)\n",
    "    return lr, dv\n",
    "\n",
    "def eval(df, dv, model):\n",
    "    processed_df = process_dataset(df)\n",
    "    X = transform_dv_eval(processed_df, dv)\n",
    "    Y = processed_df['duration'].values\n",
    "    y_preds = model.predict(X)\n",
    "    return mean_squared_error(Y, y_preds, squared=False)"
   ]
  },
  {
   "cell_type": "code",
   "execution_count": 7,
   "metadata": {},
   "outputs": [
    {
     "data": {
      "text/plain": [
       "7.786409085078911"
      ]
     },
     "execution_count": 7,
     "metadata": {},
     "output_type": "execute_result"
    }
   ],
   "source": [
    "model, dv = train(jan)\n",
    "eval(feb, dv, model)"
   ]
  }
 ],
 "metadata": {
  "kernelspec": {
   "display_name": "kaggle",
   "language": "python",
   "name": "python3"
  },
  "language_info": {
   "codemirror_mode": {
    "name": "ipython",
    "version": 3
   },
   "file_extension": ".py",
   "mimetype": "text/x-python",
   "name": "python",
   "nbconvert_exporter": "python",
   "pygments_lexer": "ipython3",
   "version": "3.11.3"
  },
  "orig_nbformat": 4
 },
 "nbformat": 4,
 "nbformat_minor": 2
}
